{
  "cells":[
    {
      "cell_type":"markdown",
      "source":[
        "# 190031920\n",
        "# A Nikhil Reddy\n",
        "# MP-2 Tutorial-5"
      ],
      "metadata":{
        
      }
    },
    {
      "cell_type":"code",
      "source":[
        "import numpy as np\n",
        "from scipy.optimize import minimize"
      ],
      "execution_count":1,
      "outputs":[
        
      ],
      "metadata":{
        
      }
    },
    {
      "cell_type":"code",
      "source":[
        "def objective(x):\n",
        "    return x[0]*x[3]*(x[0]+x[1]+x[2])+x[2]"
      ],
      "execution_count":2,
      "outputs":[
        
      ],
      "metadata":{
        
      }
    },
    {
      "cell_type":"code",
      "source":[
        "def constraint1(x):\n",
        "    return x[0]*x[1]*x[2]*x[3]-25.0"
      ],
      "execution_count":3,
      "outputs":[
        
      ],
      "metadata":{
        
      }
    },
    {
      "cell_type":"code",
      "source":[
        "def constraint2(x):\n",
        "    sum_eq = 40.0\n",
        "    for i in range(4):\n",
        "        sum_eq = sum_eq - x[i]**2\n",
        "    return sum_eq"
      ],
      "execution_count":4,
      "outputs":[
        
      ],
      "metadata":{
        
      }
    },
    {
      "cell_type":"code",
      "source":[
        "# initial guesses\n",
        "n = 4\n",
        "x0 = np.zeros(n)\n",
        "x0[0] = 1.0\n",
        "x0[1] = 5.0\n",
        "x0[2] = 5.0\n",
        "x0[3] = 1.0"
      ],
      "execution_count":5,
      "outputs":[
        
      ],
      "metadata":{
        
      }
    },
    {
      "cell_type":"code",
      "source":[
        "# show initial objective\n",
        "print('Initial SSE Objective: ' + str(objective(x0)))"
      ],
      "execution_count":6,
      "outputs":[
        {
          "name":"stdout",
          "text":[
            "Initial SSE Objective: 16.0\n"
          ],
          "output_type":"stream"
        }
      ],
      "metadata":{
        
      }
    },
    {
      "cell_type":"code",
      "source":[
        "# optimize\n",
        "b = (1.0,5.0)\n",
        "bnds = (b, b, b, b)\n",
        "con1 = {'type': 'ineq', 'fun': constraint1} \n",
        "con2 = {'type': 'eq', 'fun': constraint2}\n",
        "cons = ([con1,con2])\n",
        "solution = minimize(objective,x0,method='SLSQP',\\\n",
        "                    bounds=bnds, constraints=cons)\n",
        "x = solution.x"
      ],
      "execution_count":7,
      "outputs":[
        
      ],
      "metadata":{
        
      }
    },
    {
      "cell_type":"code",
      "source":[
        "# show final objective\n",
        "print('Final SSE Objective: ' + str(objective(x)))"
      ],
      "execution_count":8,
      "outputs":[
        {
          "name":"stdout",
          "text":[
            "Final SSE Objective: 17.01401724563517\n"
          ],
          "output_type":"stream"
        }
      ],
      "metadata":{
        
      }
    },
    {
      "cell_type":"code",
      "source":[
        "# print solution\n",
        "print('Solution')\n",
        "print('x1 = ' + str(x[0]))\n",
        "print('x2 = ' + str(x[1]))\n",
        "print('x3 = ' + str(x[2]))\n",
        "print('x4 = ' + str(x[3]))"
      ],
      "execution_count":9,
      "outputs":[
        {
          "name":"stdout",
          "text":[
            "Solution\n",
            "x1 = 1.0\n",
            "x2 = 4.742996096883977\n",
            "x3 = 3.8211546234095715\n",
            "x4 = 1.379407645075325\n"
          ],
          "output_type":"stream"
        }
      ],
      "metadata":{
        
      }
    }
  ],
  "metadata":{
    
  },
  "nbformat":4,
  "nbformat_minor":0
}