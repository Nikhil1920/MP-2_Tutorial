{
  "nbformat": 4,
  "nbformat_minor": 0,
  "metadata": {
    "colab": {
      "name": "floyd_warshall_anr's.ipynb",
      "provenance": []
    },
    "kernelspec": {
      "name": "python3",
      "display_name": "Python 3"
    }
  },
  "cells": [
    {
      "cell_type": "markdown",
      "metadata": {
        "id": "nrwYCRyvuRgA"
      },
      "source": [
        "# MP-2 Tutorial - 3\n",
        "# 190031920\n",
        "# Avuthu Nikhil Reddy"
      ]
    },
    {
      "cell_type": "code",
      "metadata": {
        "id": "GmKgmnUxWjgy"
      },
      "source": [
        "import sys\r\n",
        "INF = sys.maxsize"
      ],
      "execution_count": 1,
      "outputs": []
    },
    {
      "cell_type": "code",
      "metadata": {
        "colab": {
          "base_uri": "https://localhost:8080/"
        },
        "id": "7cwgS_ryXEo3",
        "outputId": "5e52f303-7e86-487d-b575-c58eb029cd4f"
      },
      "source": [
        "def floydWarshall(graph):\r\n",
        "  n = len(graph)\r\n",
        "  dist = [[] for i in range(n)]\r\n",
        "  for i in range(n):\r\n",
        "    for j in range(n):\r\n",
        "      dist[i].append(graph[i][j])\r\n",
        "  \r\n",
        "  \r\n",
        "  for k in range(n):\r\n",
        "    for i in range(n):\r\n",
        "      for j in range(n):\r\n",
        "        dist[i][j] = min(dist[i][j],dist[i][k]+ dist[k][j])\r\n",
        "\r\n",
        "  print(\"shortest distance between every pair of vertices\")\r\n",
        "  for i in range(n):\r\n",
        "    for j in range(n):\r\n",
        "      if dist[i][j]==INF:\r\n",
        "        print(\"%7s\" %(\"INF\"),end =' ')\r\n",
        "      else:\r\n",
        "        print(\"%7d\" %(dist[i][j]),end=' ')\r\n",
        "    print()\r\n",
        "graph = [[0,5,INF,10], \r\n",
        "             [INF,0,3,INF], \r\n",
        "             [INF, INF, 0,   1], \r\n",
        "             [INF, INF, INF, 0] \r\n",
        "        ] \r\n",
        "# Print the solution \r\n",
        "floydWarshall(graph); "
      ],
      "execution_count": 2,
      "outputs": [
        {
          "output_type": "stream",
          "text": [
            "shortest distance between every pair of vertices\n",
            "      0       5       8       9 \n",
            "    INF       0       3       4 \n",
            "    INF     INF       0       1 \n",
            "    INF     INF     INF       0 \n"
          ],
          "name": "stdout"
        }
      ]
    },
    {
      "cell_type": "code",
      "metadata": {
        "id": "0kH9Bh7jsWTu"
      },
      "source": [
        "# Floyd Warshall Algorithm in python \r\n",
        "# The number of vertices \r\n",
        "nV = 4 \r\n",
        "INF = 999"
      ],
      "execution_count": 3,
      "outputs": []
    },
    {
      "cell_type": "code",
      "metadata": {
        "id": "xIeZ-KRvs7nK"
      },
      "source": [
        "# Algorithm implementation \r\n",
        "def floyd_warshall(G): \r\n",
        "    distance = list(map(lambda i: list(map(lambda j: j, i)), G)) \r\n",
        "    # Adding vertices individually \r\n",
        "    for k in range(nV): \r\n",
        "        for i in range(nV): \r\n",
        "            for j in range(nV): \r\n",
        "                distance[i][j] = min(distance[i][j], distance[i][k] + distance[k][j])\r\n",
        "    print_solution(distance)"
      ],
      "execution_count": 4,
      "outputs": []
    },
    {
      "cell_type": "code",
      "metadata": {
        "id": "M54zMTGxs2oA"
      },
      "source": [
        "def print_solution(distance): \r\n",
        "    for i in range(nV): \r\n",
        "        for j in range(nV): \r\n",
        "            if(distance[i][j] == INF): \r\n",
        "               print(\"INF\", end=\" \") \r\n",
        "            else: \r\n",
        "                print(distance[i][j], end=\" \") \r\n",
        "        print(\" \") "
      ],
      "execution_count": 5,
      "outputs": []
    },
    {
      "cell_type": "code",
      "metadata": {
        "colab": {
          "base_uri": "https://localhost:8080/"
        },
        "id": "DS_kqh90tA5h",
        "outputId": "ef481fbb-5bc6-4b63-b1dd-86d31381b3d7"
      },
      "source": [
        "# Printing the solution \r\n",
        "\r\n",
        "G = [[0, 3, INF, 5], \r\n",
        "         [2, 0, INF, 4], \r\n",
        "         [INF, 1, 0, INF], \r\n",
        "        [INF, INF, 2, 0]] \r\n",
        "floyd_warshall(G)"
      ],
      "execution_count": 6,
      "outputs": [
        {
          "output_type": "stream",
          "text": [
            "0 3 7 5  \n",
            "2 0 6 4  \n",
            "3 1 0 5  \n",
            "5 3 2 0  \n"
          ],
          "name": "stdout"
        }
      ]
    }
  ]
}