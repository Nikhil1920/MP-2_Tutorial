{
  "cells": [
    {
      "cell_type": "markdown",
      "source": [
        "# MP-2 Tutorial - 2\n",
        "# 190031920\n",
        "# Avuthu Nikhil Reddy"
      ],
      "metadata": {}
    },
    {
      "cell_type": "code",
      "source": [
        "!pip install python-constraint"
      ],
      "execution_count": 4,
      "outputs": [
        {
          "name": "stdout",
          "text": [
            "Collecting python-constraint\r\n",
            "  Downloading python-constraint-1.4.0.tar.bz2 (18 kB)\r\n",
            "Building wheels for collected packages: python-constraint\r\n",
            "  Building wheel for python-constraint (setup.py) ... \u001b[?25l-\b \bdone\r\n",
            "\u001b[?25h  Created wheel for python-constraint: filename=python_constraint-1.4.0-py2.py3-none-any.whl size=24079 sha256=1f99a8e7302cf36ec17bc673328020bce7d6088949a929eb30fc453865fdee07\r\n",
            "  Stored in directory: /home/datalore/.cache/pip/wheels/07/27/db/1222c80eb1e431f3d2199c12569cb1cac60f562a451fe30479\r\n",
            "Successfully built python-constraint\r\n",
            "Installing collected packages: python-constraint\r\n",
            "Successfully installed python-constraint-1.4.0\r\n"
          ],
          "output_type": "stream"
        }
      ],
      "metadata": {}
    },
    {
      "cell_type": "code",
      "source": [
        "from constraint import *"
      ],
      "execution_count": 5,
      "outputs": [],
      "metadata": {}
    },
    {
      "cell_type": "code",
      "source": [
        "problem = Problem()\n",
        "\n",
        "problem.addVariable('x', [1,2,3])\n",
        "problem.addVariable('y', range(10))"
      ],
      "execution_count": 3,
      "outputs": [],
      "metadata": {}
    },
    {
      "cell_type": "code",
      "source": [
        "def our_constraint(x, y):\n",
        "    if x + y >= 5:\n",
        "        return True"
      ],
      "execution_count": 5,
      "outputs": [],
      "metadata": {}
    },
    {
      "cell_type": "code",
      "source": [
        "problem.addConstraint(our_constraint, ['x','y'])\n",
        "\n",
        "solutions = problem.getSolutions()"
      ],
      "execution_count": 6,
      "outputs": [],
      "metadata": {}
    },
    {
      "cell_type": "code",
      "source": [
        "for solution in solutions:\n",
        "    print(solution)"
      ],
      "execution_count": 7,
      "outputs": [
        {
          "name": "stdout",
          "text": [
            "{'x': 3, 'y': 9}\n",
            "{'x': 3, 'y': 8}\n",
            "{'x': 3, 'y': 7}\n",
            "{'x': 3, 'y': 6}\n",
            "{'x': 3, 'y': 5}\n",
            "{'x': 3, 'y': 4}\n",
            "{'x': 3, 'y': 3}\n",
            "{'x': 3, 'y': 2}\n",
            "{'x': 2, 'y': 9}\n",
            "{'x': 2, 'y': 8}\n",
            "{'x': 2, 'y': 7}\n",
            "{'x': 2, 'y': 6}\n",
            "{'x': 2, 'y': 5}\n",
            "{'x': 2, 'y': 4}\n",
            "{'x': 2, 'y': 3}\n",
            "{'x': 1, 'y': 9}\n",
            "{'x': 1, 'y': 8}\n",
            "{'x': 1, 'y': 7}\n",
            "{'x': 1, 'y': 6}\n",
            "{'x': 1, 'y': 5}\n",
            "{'x': 1, 'y': 4}\n"
          ],
          "output_type": "stream"
        }
      ],
      "metadata": {}
    }
  ],
  "metadata": {},
  "nbformat": 4,
  "nbformat_minor": 0
}