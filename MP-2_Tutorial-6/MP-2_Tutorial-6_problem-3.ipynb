{
  "cells": [
    {
      "source": [
        "# MP-2 Tutorial - 6\n",
        "# Problem - 3\n",
        "# 190031920\n",
        "# Avuthu Nikhil Reddy"
      ],
      "cell_type": "markdown",
      "metadata": {}
    },
    {
      "cell_type": "code",
      "source": [
        "!pip install python-constraint"
      ],
      "execution_count": 1,
      "outputs": [
        {
          "name": "stdout",
          "text": [
            "Collecting python-constraint\r\n",
            "  Downloading python-constraint-1.4.0.tar.bz2 (18 kB)\r\n",
            "Building wheels for collected packages: python-constraint\r\n",
            "  Building wheel for python-constraint (setup.py) ... \u001b[?25l-\b \b\\\b \bdone\r\n",
            "\u001b[?25h  Created wheel for python-constraint: filename=python_constraint-1.4.0-py2.py3-none-any.whl size=24079 sha256=12ac3c5f63c342a47a2c7f6e8e632f945332ba35ceea405b01cdac8f9131ca0f\r\n",
            "  Stored in directory: /home/datalore/.cache/pip/wheels/07/27/db/1222c80eb1e431f3d2199c12569cb1cac60f562a451fe30479\r\n",
            "Successfully built python-constraint\r\n",
            "Installing collected packages: python-constraint\r\n",
            "Successfully installed python-constraint-1.4.0\r\n"
          ],
          "output_type": "stream"
        }
      ],
      "metadata": {}
    },
    {
      "cell_type": "code",
      "source": [
        "import constraint"
      ],
      "execution_count": 2,
      "outputs": [],
      "metadata": {}
    },
    {
      "cell_type": "code",
      "source": [
        "problem = constraint.Problem()\n",
        "\n",
        "problem.addVariable('A', range(31))\n",
        "problem.addVariable('B', range(45))\n",
        "problem.addVariable('C', range(76))\n",
        "problem.addVariable('D', range(101))"
      ],
      "execution_count": 3,
      "outputs": [],
      "metadata": {}
    },
    {
      "cell_type": "code",
      "source": [
        "def weight_constraint(a, b, c, d):\n",
        "    if (a*100 + b*45 + c*10 + d*25) <= 3000:\n",
        "        return True"
      ],
      "execution_count": 4,
      "outputs": [],
      "metadata": {}
    },
    {
      "cell_type": "code",
      "source": [
        "def volume_constraint(a, b, c, d):\n",
        "    if (a*8*2.5*0.5 + b*6*2*0.5 * c*2*2*0.5 + d*3*3*0.5) <= 1000:\n",
        "        return True"
      ],
      "execution_count": 5,
      "outputs": [],
      "metadata": {}
    },
    {
      "cell_type": "code",
      "source": [
        "def value_constraint(a, b, c, d):\n",
        "    if (a*8 + b*6.8 + c*4 + d*3) < 300:\n",
        "        return True"
      ],
      "execution_count": 6,
      "outputs": [],
      "metadata": {}
    },
    {
      "cell_type": "code",
      "source": [
        "problem.addConstraint(weight_constraint, \"ABCD\")\n",
        "problem.addConstraint(volume_constraint, \"ABCD\")\n",
        "problem.addConstraint(value_constraint, \"ABCD\")"
      ],
      "execution_count": 7,
      "outputs": [],
      "metadata": {}
    },
    {
      "cell_type": "code",
      "source": [
        "maximum_sweetness = 0\n",
        "solution_found = {}\n",
        "solutions = problem.getSolutions()"
      ],
      "execution_count": 8,
      "outputs": [],
      "metadata": {}
    },
    {
      "cell_type": "code",
      "source": [
        "for s in solutions:\n",
        "    current_sweetness = s['A']*10 + s['B']*8 + s['C']*4.5 + s['D']*3.5\n",
        "    if current_sweetness > maximum_sweetness:\n",
        "        maximum_sweetness = current_sweetness\n",
        "        solution_found = s\n",
        "print(\"\"\"\n",
        "The maximum sweetness we can bring is: {}\n",
        "We'll bring:\n",
        "{} A Chocolates,\n",
        "{} B Chocolates,\n",
        "{} C Chocolates,\n",
        "{} D Chocolates\n",
        "\"\"\".format(maximum_sweetness, solution_found['A'], solution_found['B'], solution_found['C'], solution_found['D']))"
      ],
      "execution_count": 9,
      "outputs": [
        {
          "name": "stdout",
          "text": [
            "\n",
            "The maximum sweetness we can bring is: 365.0\n",
            "We'll bring:\n",
            "27 A Chocolates,\n",
            "2 B Chocolates,\n",
            "16 C Chocolates,\n",
            "2 D Chocolates\n",
            "\n"
          ],
          "output_type": "stream"
        }
      ],
      "metadata": {}
    }
  ],
  "metadata": {},
  "nbformat": 4,
  "nbformat_minor": 0
}