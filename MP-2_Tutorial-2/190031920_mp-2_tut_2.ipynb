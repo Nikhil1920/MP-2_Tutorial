{
  "nbformat": 4,
  "nbformat_minor": 0,
  "metadata": {
    "colab": {
      "name": "190031920-mp-2-tut-2.ipynb",
      "provenance": []
    },
    "kernelspec": {
      "name": "python3",
      "display_name": "Python 3"
    }
  },
  "cells": [
    {
      "cell_type": "markdown",
      "metadata": {
        "id": "o7scTNByXoAX"
      },
      "source": [
        "# MP-2 Tutorial - 2\n",
        "# 190031920\n",
        "# Avuthu Nikhil Reddy"
      ]
    },
    {
      "cell_type": "code",
      "metadata": {
        "id": "yLrKNTrHXxQc"
      },
      "source": [
        "import numpy as np\r\n",
        "\r\n",
        "def func(X):\r\n",
        "    x=X[0]\r\n",
        "    y=X[1]\r\n",
        "    L=X[2]\r\n",
        "    return 6*x**2 +12*y**2 -L * (x+y-90)"
      ],
      "execution_count": 1,
      "outputs": []
    },
    {
      "cell_type": "code",
      "metadata": {
        "id": "X7WIckh2YC7N"
      },
      "source": [
        "def dfunc(X):\r\n",
        "    dLambda=np.zeros(len(X))\r\n",
        "    h=1e-3\r\n",
        "    for i in range(len(X)):\r\n",
        "        dX=np.zeros(len(X))\r\n",
        "        dX[i]=h\r\n",
        "        dLambda[i]=(func(X+dX)-func(X-dX))/(2*h);\r\n",
        "    return dLambda"
      ],
      "execution_count": 2,
      "outputs": []
    },
    {
      "cell_type": "code",
      "metadata": {
        "colab": {
          "base_uri": "https://localhost:8080/"
        },
        "id": "aKsfOLEwYEms",
        "outputId": "5b2be78a-e463-41d0-a514-0d1efa02327c"
      },
      "source": [
        "from scipy.optimize import fsolve\r\n",
        "x1=fsolve(dfunc,[1,1,0])\r\n",
        "print(x1,func(x1))\r\n",
        "x2=fsolve(dfunc,[-1,-1,0])\r\n",
        "print(x2,func(x2))"
      ],
      "execution_count": 3,
      "outputs": [
        {
          "output_type": "stream",
          "text": [
            "[ 60.          30.         720.00000001] 32400.0\n",
            "[ 60.          30.         719.99999999] 32400.0\n"
          ],
          "name": "stdout"
        }
      ]
    },
    {
      "cell_type": "code",
      "metadata": {
        "id": "FPc9ZssXYQsG",
        "colab": {
          "base_uri": "https://localhost:8080/"
        },
        "outputId": "e25bc46a-1981-4d06-8a7a-b2598bef8866"
      },
      "source": [
        "def knapSack(W, wt, val, n):\r\n",
        "   K = [[0 for x in range(W + 1)] for x in range(n + 1)]\r\n",
        "   for i in range(n + 1):\r\n",
        "      for w in range(W + 1):\r\n",
        "         if i == 0 or w == 0:\r\n",
        "            K[i][w] = 0\r\n",
        "         elif wt[i-1] <= w:\r\n",
        "            K[i][w] = max(val[i-1] + K[i-1][w-wt[i-1]], K[i-1][w])\r\n",
        "         else:\r\n",
        "            K[i][w] = K[i-1][w]\r\n",
        "   return K[n][W]\r\n",
        "val = [16,22,12,8]\r\n",
        "wt = [5,7,4,3]\r\n",
        "W = 14\r\n",
        "n = len(val)\r\n",
        "print(knapSack(W, wt, val, n))"
      ],
      "execution_count": 4,
      "outputs": [
        {
          "output_type": "stream",
          "text": [
            "42\n"
          ],
          "name": "stdout"
        }
      ]
    }
  ]
}