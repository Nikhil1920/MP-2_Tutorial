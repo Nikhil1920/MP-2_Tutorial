{
 "cells": [
  {
   "cell_type": "markdown",
   "metadata": {
    "id": "9MXbD6Agd0ls"
   },
   "source": [
    "# MP-2 Tutorial - 1\n",
    "# 190031920\n",
    "# Avuthu Nikhil Reddy"
   ]
  },
  {
   "cell_type": "code",
   "execution_count": 1,
   "metadata": {
    "colab": {
     "base_uri": "https://localhost:8080/"
    },
    "id": "BKdNlKard-ZH",
    "outputId": "16108fa4-a7ab-4f74-f8a8-e360940ed683"
   },
   "outputs": [
    {
     "name": "stdout",
     "output_type": "stream",
     "text": [
      "Collecting pyatom\n",
      "  Downloading https://files.pythonhosted.org/packages/e3/1b/ea029151d3ff734277c2adbd20addd9fee8e7105ec8659ffcb0834a29312/pyatom-0.0.10-py3-none-any.whl\n",
      "Installing collected packages: pyatom\n",
      "Successfully installed pyatom-0.0.10\n"
     ]
    }
   ],
   "source": [
    "pip install pyatom"
   ]
  },
  {
   "cell_type": "code",
   "execution_count": 2,
   "metadata": {
    "colab": {
     "base_uri": "https://localhost:8080/"
    },
    "id": "8gdDkkvJeFS2",
    "outputId": "ed6c0509-94b0-48f1-f773-a7fac6c9414d"
   },
   "outputs": [
    {
     "name": "stdout",
     "output_type": "stream",
     "text": [
      "Looking in indexes: https://pypi.gurobi.com\n",
      "Collecting gurobipy\n",
      "\u001b[?25l  Downloading https://pypi.gurobi.com/gurobipy/gurobipy-9.1.1-cp36-cp36m-manylinux1_x86_64.whl (11.1MB)\n",
      "\u001b[K     |████████████████████████████████| 11.1MB 386kB/s \n",
      "\u001b[?25hInstalling collected packages: gurobipy\n",
      "Successfully installed gurobipy-9.1.1\n"
     ]
    }
   ],
   "source": [
    "pip install -i https://pypi.gurobi.com gurobipy"
   ]
  },
  {
   "cell_type": "code",
   "execution_count": 3,
   "metadata": {
    "colab": {
     "base_uri": "https://localhost:8080/"
    },
    "id": "TIAxgxPVeHkE",
    "outputId": "de41df36-7171-44e4-e076-e86c30bf41e6"
   },
   "outputs": [
    {
     "name": "stdout",
     "output_type": "stream",
     "text": [
      "Collecting rsome\n",
      "  Downloading https://files.pythonhosted.org/packages/a2/2f/c919d3c0ad264b35bec414681e5da42fe3f39d0adea3ae14552a80e499ee/rsome-0.0.9-py3-none-any.whl\n",
      "Installing collected packages: rsome\n",
      "Successfully installed rsome-0.0.9\n"
     ]
    }
   ],
   "source": [
    "pip install rsome\n"
   ]
  },
  {
   "cell_type": "code",
   "execution_count": 4,
   "metadata": {
    "id": "5Ev2GbTFeL4p"
   },
   "outputs": [],
   "source": [
    "import pyatom.lp as lp\n",
    "import pyatom.grb_solver as grb"
   ]
  },
  {
   "cell_type": "code",
   "execution_count": 5,
   "metadata": {
    "colab": {
     "base_uri": "https://localhost:8080/"
    },
    "id": "3oGCsy7JeRCP",
    "outputId": "cc9081d7-b4dd-4a9b-8e1f-5bb68690b8b1"
   },
   "outputs": [
    {
     "name": "stdout",
     "output_type": "stream",
     "text": [
      "Restricted license - for non-production use only - expires 2022-01-13\n",
      "Being solved by Gurobi...\n",
      "Solution status: 2\n",
      "Running time: 0.0004s\n",
      "17.0\n",
      "[3.]\n",
      "[2.]\n"
     ]
    }
   ],
   "source": [
    "model=lp.Model()\n",
    "x=model.dvar()\n",
    "y=model.dvar()\n",
    "model.max(3*x + 4*y)\n",
    "model.st(2.5*x + y<=20)\n",
    "model.st(3*x + 3*y<=30)\n",
    "model.st(x+2*y<=16)\n",
    "model.st(x<=3)\n",
    "model.st(abs(y)<=2)\n",
    "model.solve(grb)\n",
    "print(model.get())\n",
    "print(x.get())\n",
    "print(y.get())\n"
   ]
  },
  {
   "cell_type": "code",
   "execution_count": 6,
   "metadata": {
    "id": "r-P7wai9eVGq"
   },
   "outputs": [],
   "source": [
    "from rsome import ro\n",
    "from rsome import grb_solver as grb"
   ]
  },
  {
   "cell_type": "code",
   "execution_count": 7,
   "metadata": {
    "colab": {
     "base_uri": "https://localhost:8080/"
    },
    "id": "s-DqewAieZFK",
    "outputId": "78a52e54-203b-42f8-cc07-b5458d64d66d"
   },
   "outputs": [
    {
     "name": "stdout",
     "output_type": "stream",
     "text": [
      "Being solved by Gurobi...\n",
      "Solution status: 2\n",
      "Running time: 0.0006s\n"
     ]
    }
   ],
   "source": [
    "model=ro.Model('LP model')\n",
    "x=model.dvar()\n",
    "y=model.dvar()\n",
    "model.max(3*x + 4*y)\n",
    "model.st(2.5*x + y<=20)\n",
    "model.st(5*x + 3*y<=30)\n",
    "model.st(abs(y)<=2)\n",
    "model.solve(grb)"
   ]
  },
  {
   "cell_type": "code",
   "execution_count": 8,
   "metadata": {
    "colab": {
     "base_uri": "https://localhost:8080/"
    },
    "id": "3bzHk5Yoec98",
    "outputId": "261438ab-05f2-4720-fc45-3035e65d6c29"
   },
   "outputs": [
    {
     "name": "stdout",
     "output_type": "stream",
     "text": [
      "Being solved by Gurobi...\n",
      "Solution status: 2\n",
      "Running time: 0.0004s\n",
      "17.0\n",
      "[3.]\n",
      "[2.]\n"
     ]
    },
    {
     "data": {
      "text/plain": [
       "Linear program object:\n",
       "=============================================\n",
       "Number of variables:          3\n",
       "Continuous/binaries/integers: 3/0/0\n",
       "---------------------------------------------\n",
       "Number of linear constraints: 6\n",
       "Inequalities/equalities:      6/0\n",
       "Number of coefficients:       11"
      ]
     },
     "execution_count": 8,
     "metadata": {
      "tags": []
     },
     "output_type": "execute_result"
    }
   ],
   "source": [
    "model=lp.Model()\n",
    "x=model.dvar()\n",
    "y=model.dvar()\n",
    "model.max(3*x + 4*y)\n",
    "model.st(2.5*x + y<=20)\n",
    "model.st(3*x + 3*y<=30)\n",
    "model.st(x+2*y<=16)\n",
    "model.st(x<=3)\n",
    "model.st(abs(y)<=2)\n",
    "model.solve(grb)\n",
    "print(model.get())\n",
    "print(x.get())\n",
    "print(y.get())\n",
    "model.do_math()"
   ]
  }
 ],
 "metadata": {
  "colab": {
   "collapsed_sections": [],
   "name": "mp2 tut 1.ipynb",
   "provenance": []
  },
  "kernelspec": {
   "display_name": "Python 3",
   "language": "python",
   "name": "python3"
  },
  "language_info": {
   "codemirror_mode": {
    "name": "ipython",
    "version": 3
   },
   "file_extension": ".py",
   "mimetype": "text/x-python",
   "name": "python",
   "nbconvert_exporter": "python",
   "pygments_lexer": "ipython3",
   "version": "3.9.1"
  }
 },
 "nbformat": 4,
 "nbformat_minor": 1
}
